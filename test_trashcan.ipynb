{
 "metadata": {
  "language_info": {
   "codemirror_mode": {
    "name": "ipython",
    "version": 3
   },
   "file_extension": ".py",
   "mimetype": "text/x-python",
   "name": "python",
   "nbconvert_exporter": "python",
   "pygments_lexer": "ipython3",
   "version": "3.6.9-final"
  },
  "orig_nbformat": 2,
  "kernelspec": {
   "name": "python3",
   "display_name": "Python 3.6.9 64-bit",
   "metadata": {
    "interpreter": {
     "hash": "767d51c1340bd893661ea55ea3124f6de3c7a262a8b4abca0554b478b1e2ff90"
    }
   }
  }
 },
 "nbformat": 4,
 "nbformat_minor": 2,
 "cells": [
  {
   "cell_type": "code",
   "execution_count": 1,
   "metadata": {},
   "outputs": [
    {
     "output_type": "stream",
     "name": "stdout",
     "text": [
      "loading annotations into memory...\nDone (t=0.09s)\ncreating index...\nindex created!\n"
     ]
    }
   ],
   "source": [
    "from pycocotools.coco import COCO\n",
    "from pycocotools.cocoeval import COCOeval\n",
    "\n",
    "ann_file = \"data/trashcan_instance/instances_val_trashcan.json\"\n",
    "coco = COCO(ann_file)"
   ]
  },
  {
   "cell_type": "code",
   "execution_count": 5,
   "metadata": {},
   "outputs": [
    {
     "output_type": "execute_result",
     "data": {
      "text/plain": [
       "[1, 2, 3, 4, 5, 6, 7, 8, 9, 10, 11, 12, 13, 14, 15, 16, 17, 18, 19, 20, 21, 22]"
      ]
     },
     "metadata": {},
     "execution_count": 5
    }
   ],
   "source": [
    "CLASSES = ('person', 'bicycle', 'car', 'motorcycle', 'airplane', 'bus',\n",
    "            'train', 'truck', 'boat', 'traffic light', 'fire hydrant',\n",
    "            'stop sign', 'parking meter', 'bench', 'bird', 'cat', 'dog',\n",
    "            'horse', 'sheep', 'cow', 'elephant', 'bear', 'zebra', 'giraffe',\n",
    "            'backpack', 'umbrella', 'handbag', 'tie', 'suitcase', 'frisbee',\n",
    "            'skis', 'snowboard', 'sports ball', 'kite', 'baseball bat',\n",
    "            'baseball glove', 'skateboard', 'surfboard', 'tennis racket',\n",
    "            'bottle', 'wine glass', 'cup', 'fork', 'knife', 'spoon', 'bowl',\n",
    "            'banana', 'apple', 'sandwich', 'orange', 'broccoli', 'carrot',\n",
    "            'hot dog', 'pizza', 'donut', 'cake', 'chair', 'couch',\n",
    "            'potted plant', 'bed', 'dining table', 'toilet', 'tv', 'laptop',\n",
    "            'mouse', 'remote', 'keyboard', 'cell phone', 'microwave',\n",
    "            'oven', 'toaster', 'sink', 'refrigerator', 'book', 'clock',\n",
    "            'vase', 'scissors', 'teddy bear', 'hair drier', 'toothbrush')\n",
    "\n",
    "\n",
    "cat_ids = coco.get_cat_ids()\n",
    "cat_ids"
   ]
  }
 ]
}